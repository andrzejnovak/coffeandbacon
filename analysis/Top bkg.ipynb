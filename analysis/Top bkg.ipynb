{
 "cells": [
  {
   "cell_type": "code",
   "execution_count": null,
   "metadata": {},
   "outputs": [],
   "source": [
    "from __future__ import print_function, division\n",
    "from collections import defaultdict, OrderedDict\n",
    "import gzip\n",
    "import pickle\n",
    "import json\n",
    "\n",
    "import uproot\n",
    "%matplotlib nbagg\n",
    "import matplotlib.pyplot as plt\n",
    "import numpy as np\n",
    "\n",
    "from coffea import hist"
   ]
  },
  {
   "cell_type": "code",
   "execution_count": null,
   "metadata": {},
   "outputs": [],
   "source": [
    "# run download_testbits.sh\n",
    "fin = uproot.open(\"data/TTToHadronic_TuneCP5_13TeV_powheg_pythia8_0.root\")\n",
    "tree = fin['otree']"
   ]
  },
  {
   "cell_type": "code",
   "execution_count": null,
   "metadata": {},
   "outputs": [],
   "source": [
    "def clean(val, default):\n",
    "    val[np.isnan(val)|(val==-999.)] = default"
   ]
  },
  {
   "cell_type": "code",
   "execution_count": null,
   "metadata": {},
   "outputs": [],
   "source": [
    "pt0 = tree['AK8Puppijet0_pt'].array()\n",
    "msd0 = tree['AK8Puppijet0_msd'].array()\n",
    "ddb0 = tree['AK8Puppijet0_deepdoubleb'].array()\n",
    "clean(ddb0, -np.inf)\n",
    "n2_jet0 = tree['AK8Puppijet0_N2sdb1'].array()\n",
    "clean(n2_jet0, np.inf)\n",
    "doublebtag = tree['AK8Puppijet0_doublecsv'].array()\n",
    "tau21_jet0 = tree['AK8Puppijet0_tau21'].array()\n",
    "tau32_jet0 = tree['AK8Puppijet0_tau32'].array()\n",
    "tau32_jet1 = tree['AK8Puppijet1_tau32'].array()\n",
    "njets = tree['nAK4PuppijetsPt30'].array()\n",
    "sumht = tree['puppet'].array()"
   ]
  },
  {
   "cell_type": "code",
   "execution_count": null,
   "metadata": {},
   "outputs": [],
   "source": [
    "clean(pt0, 1.)\n",
    "h = hist.Hist(\"Events\", hist.Bin(\"sumht\", \"Sumht norm\", 40, 0, 4))\n",
    "h.fill(sumht=sumht/pt0)\n",
    "hist.plot1d(h, error_opts={})"
   ]
  },
  {
   "cell_type": "code",
   "execution_count": null,
   "metadata": {},
   "outputs": [],
   "source": [
    "tau32_jet0[tau21_jet0>-999].max()"
   ]
  },
  {
   "cell_type": "code",
   "execution_count": null,
   "metadata": {},
   "outputs": [],
   "source": [
    "h = hist.Hist(\"Events\", \n",
    "              hist.Bin(\"tau21\", r\"Jet $\\tau_{21}$\", 20, 0, 1),\n",
    "              hist.Bin(\"msd\", \"Jet $m_{sd}$\", 23*2, 40, 201)\n",
    "             )\n",
    "cut = (pt0>450.)\n",
    "h.fill(msd=msd0[cut], tau21=tau21_jet0[cut])\n",
    "fig, ax, _ = hist.plot2d(h, xaxis=\"tau21\", patch_opts={})\n",
    "ax.set_title('TTbar Hadronic, Leading jet $p_{T}>450$')\n",
    "\n",
    "import scipy.ndimage\n",
    "a = scipy.ndimage.gaussian_filter(h.values()[()], sigma=1.5)\n",
    "quantiles = np.quantile(a, [0.5, 0.9, 0.99])\n",
    "x, y = np.meshgrid(*tuple(ax.centers() for ax in h.axes()))\n",
    "cc = ax.contour(x, y, a.T, quantiles, colors='w')\n",
    "cclabels = ax.clabel(cc, inline=1, fontsize=10, fmt='%.0f')\n",
    "\n",
    "import matplotlib.patheffects as patheffects\n",
    "plt.setp(cc.collections, path_effects=[patheffects.withStroke(linewidth=3, foreground='k')])\n",
    "plt.setp(cclabels, path_effects=[patheffects.withStroke(linewidth=1.5, foreground='k')])\n"
   ]
  },
  {
   "cell_type": "code",
   "execution_count": null,
   "metadata": {},
   "outputs": [],
   "source": [
    "h = hist.Hist(\"Events\", hist.Bin(\"N2\", \"Jet $N_{2}$\", 20, 0, .5), hist.Bin(\"msd\", \"Jet $m_{sd}$\", 23*2, 40, 201))\n",
    "cut = (pt0>450.)\n",
    "h.fill(msd=msd0[cut], N2=n2_jet0[cut])\n",
    "fig, ax, _ = hist.plot2d(h, xaxis=\"N2\", patch_opts={})\n",
    "ax.set_title('TTbar Hadronic, Leading jet $p_{T}>450$')\n"
   ]
  },
  {
   "cell_type": "code",
   "execution_count": null,
   "metadata": {},
   "outputs": [],
   "source": [
    "e4_v2_jet0 = tree[\"AK8Puppijet0_e4_v2_sdb1\"].array()\n",
    "clean(e4_v2_jet0, 1.)\n",
    "e3_v1_jet0 = tree[\"AK8Puppijet0_e3_v1_sdb1\"].array()\n",
    "clean(e3_v1_jet0, -1)\n",
    "N3_jet0 = e4_v2_jet0/np.maximum(1e-4, e3_v1_jet0)**2"
   ]
  },
  {
   "cell_type": "code",
   "execution_count": null,
   "metadata": {},
   "outputs": [],
   "source": [
    "e4_v2_jet1 = tree[\"AK8Puppijet1_e4_v2_sdb1\"].array()\n",
    "clean(e4_v2_jet1, 1.)\n",
    "e3_v1_jet1 = tree[\"AK8Puppijet1_e3_v1_sdb1\"].array()\n",
    "clean(e3_v1_jet1, -1)\n",
    "N3_jet1 = e4_v2_jet1/np.maximum(1e-4, e3_v1_jet1)**2\n",
    "msd1 = tree['AK8Puppijet1_msd'].array()\n"
   ]
  },
  {
   "cell_type": "code",
   "execution_count": null,
   "metadata": {},
   "outputs": [],
   "source": [
    "h = hist.Hist(\"Events\", hist.Bin(\"N3\", \"N3\", 20, 0.5, 2), hist.Bin(\"msd\", \"msd\", 23*2, 40, 201))\n",
    "cut = (pt0>450.)\n",
    "h.fill(msd=msd1[cut], N3=N3_jet1[cut])\n",
    "hist.plot2d(h, xaxis=\"N3\", patch_opts={})"
   ]
  },
  {
   "cell_type": "code",
   "execution_count": null,
   "metadata": {},
   "outputs": [],
   "source": [
    "h = hist.Hist(\"Events\", hist.Bin(\"tau32\", r\"$\\tau_{32}$\", 20, 0, 1), hist.Bin(\"msd\", \"msd\", 23*2, 40, 201))\n",
    "cut = (pt0>450.)\n",
    "h.fill(msd=msd1[cut], tau32=tau32_jet1[cut])\n",
    "hist.plot2d(h, xaxis=\"tau32\", patch_opts={})"
   ]
  },
  {
   "cell_type": "code",
   "execution_count": null,
   "metadata": {},
   "outputs": [],
   "source": [
    "h = hist.Hist(\"Events\", hist.Bin(\"ddb\", \"Deep double-b\", 20, 0, 1), hist.Bin(\"msd\", \"Jet $m_{sd}$\", 23*2, 40, 201))\n",
    "cut = (pt0>450.)\n",
    "h.fill(msd=msd0[cut], ddb=ddb0[cut])\n",
    "fig, ax, _ = hist.plot2d(h, xaxis=\"ddb\", patch_opts={})\n",
    "ax.set_title('TTbar Hadronic, Leading jet $p_{T}>450$')\n"
   ]
  },
  {
   "cell_type": "code",
   "execution_count": null,
   "metadata": {},
   "outputs": [],
   "source": [
    "h = hist.Hist(\"Events\", hist.Bin(\"ddb\", \"Deep double-b\", 20, 0, 1), hist.Bin(\"msd\", \"Jet $m_{sd}$\", 23*2, 40, 201))\n",
    "cut = (pt0>450.) & (n2_jet0<.26)  # 50% of N2 DDT map values are between 0.24 and 0.27\n",
    "h.fill(msd=msd0[cut], ddb=ddb0[cut])\n",
    "fig, ax, _ = hist.plot2d(h, xaxis=\"ddb\", patch_opts={})\n",
    "ax.set_title('TTbar Hadronic, Leading jet $p_{T}>450$, $N_{2}<0.26$')\n"
   ]
  },
  {
   "cell_type": "code",
   "execution_count": null,
   "metadata": {},
   "outputs": [],
   "source": [
    "h = hist.Hist(\"Events\", hist.Bin(\"doubleb\", \"DoubleCSV\", 40, 0, 1), hist.Bin(\"msd\", \"Jet $m_{sd}$\", 23*2, 40, 201))\n",
    "cut = (pt0>450.) & (n2_jet0<.26)  # (tau21_jet0<0.2)\n",
    "h.fill(msd=msd0[cut], doubleb=doublebtag[cut])\n",
    "fig, ax, _ = hist.plot2d(h, xaxis=\"doubleb\", patch_opts={})\n",
    "ax.set_title(r'TTbar Hadronic, Leading jet $p_{T}>450$, $N_{2}<0.26$')\n"
   ]
  },
  {
   "cell_type": "code",
   "execution_count": null,
   "metadata": {},
   "outputs": [],
   "source": [
    "ak4jet0_dPhi08 = tree['AK4Puppijet0_dPhi08'].array()\n",
    "ak4jet1_dPhi08 = tree['AK4Puppijet1_dPhi08'].array()\n",
    "ak4jet2_dPhi08 = tree['AK4Puppijet2_dPhi08'].array()\n",
    "ak4jet0_deepcsv = tree['AK4Puppijet0_deepcsvb'].array()\n",
    "ak4jet1_deepcsv = tree['AK4Puppijet1_deepcsvb'].array()\n",
    "ak4jet2_deepcsv = tree['AK4Puppijet2_deepcsvb'].array()"
   ]
  },
  {
   "cell_type": "code",
   "execution_count": null,
   "metadata": {},
   "outputs": [],
   "source": [
    "dphi04 = np.column_stack(tree['AK4Puppijet%d_dPhi08' % i].array() for i in range(4))\n",
    "btag04 = np.column_stack(tree['AK4Puppijet%d_deepcsvb' % i].array() for i in range(4))"
   ]
  },
  {
   "cell_type": "code",
   "execution_count": null,
   "metadata": {},
   "outputs": [],
   "source": [
    "btag04[np.abs(dphi04)<np.pi/2] = -np.inf\n",
    "np.max(btag04, axis=1)"
   ]
  },
  {
   "cell_type": "code",
   "execution_count": null,
   "metadata": {},
   "outputs": [],
   "source": [
    "deepcsv_wp = 0.1522\n",
    "os_bveto = ((ak4jet0_deepcsv>=deepcsv_wp)&(np.abs(ak4jet0_dPhi08)>np.pi/2)) \\\n",
    "         | ((ak4jet1_deepcsv>=deepcsv_wp)&(np.abs(ak4jet1_dPhi08)>np.pi/2)) \\\n",
    "         | ((ak4jet2_deepcsv>=deepcsv_wp)&(np.abs(ak4jet2_dPhi08)>np.pi/2))"
   ]
  },
  {
   "cell_type": "code",
   "execution_count": null,
   "metadata": {},
   "outputs": [],
   "source": [
    "h = hist.Hist(\"Events\", hist.Bin(\"ddb\", \"ddb\", 20, 0, 1), hist.Bin(\"msd\", \"msd\", 23*2, 40, 201))\n",
    "cut = (pt0>450.) & (n2_jet0<.257) & ~os_bveto  # 50% of N2 DDT map values are between 0.24 and 0.27\n",
    "h.fill(msd=msd0[cut], ddb=ddb0[cut])\n",
    "hist.plot2d(h, xaxis=\"ddb\", patch_opts={})"
   ]
  },
  {
   "cell_type": "code",
   "execution_count": null,
   "metadata": {},
   "outputs": [],
   "source": [
    "hbveto = hist.Hist(\"Events\", \n",
    "                   hist.Cat(\"Jet\", \"AK4 jet #\"),\n",
    "                   hist.Bin(\"dphi\", \"dphi\", 20, 0, np.pi),\n",
    "                   hist.Bin(\"deepcsv\", \"deepcsv\", [-1., 0.1522, 0.4941, 0.8001])\n",
    "                  )\n",
    "cut = (pt0>450.) & (n20<.257) & (ddb0>0.89)\n",
    "\n",
    "hbveto.fill(Jet=\"0\", dphi=np.abs(ak4jet0_dPhi08), deepcsv=ak4jet0_deepcsv, weight=cut)\n",
    "hbveto.fill(Jet=\"1\", dphi=np.abs(ak4jet1_dPhi08), deepcsv=ak4jet1_deepcsv, weight=cut)\n",
    "hbveto.fill(Jet=\"2\", dphi=np.abs(ak4jet2_dPhi08), deepcsv=ak4jet2_deepcsv, weight=cut)"
   ]
  },
  {
   "cell_type": "code",
   "execution_count": null,
   "metadata": {},
   "outputs": [],
   "source": [
    "hist.plotgrid(hbveto, col='deepcsv', overlay='Jet', error_opts={}, density=False, col_overflow='over')"
   ]
  },
  {
   "cell_type": "code",
   "execution_count": null,
   "metadata": {},
   "outputs": [],
   "source": []
  }
 ],
 "metadata": {
  "kernelspec": {
   "display_name": "Python 3",
   "language": "python",
   "name": "python3"
  },
  "language_info": {
   "codemirror_mode": {
    "name": "ipython",
    "version": 3
   },
   "file_extension": ".py",
   "mimetype": "text/x-python",
   "name": "python",
   "nbconvert_exporter": "python",
   "pygments_lexer": "ipython3",
   "version": "3.6.5"
  }
 },
 "nbformat": 4,
 "nbformat_minor": 2
}
