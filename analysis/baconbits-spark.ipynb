{
 "cells": [
  {
   "cell_type": "code",
   "execution_count": null,
   "metadata": {},
   "outputs": [],
   "source": [
    "# NB: This is for spark running on parquet files converted from\n",
    "#     baconbits skims. This is a prototype, there is lots of boilerplate.\n",
    "#     We're making it better :-)\n",
    "\n",
    "import pyspark.sql\n",
    "import os\n",
    "import sys\n",
    "\n",
    "# The following line is necessary because we're working in a\n",
    "# virtualenv. Without it, executors will use the wrong interpreter!\n",
    "os.environ['PYSPARK_PYTHON'] = sys.executable\n",
    "\n",
    "#    .config(\"spark.driver.extraClassPath\",\"/home/cms.lgray/sparkMeasure/target/scala-2.12/spark-measure_2.12-0.14-SNAPSHOT.jar\") \\\n",
    "#    .master('local[*]') \\\n",
    "\n",
    "session = pyspark.sql.SparkSession.builder \\\n",
    "    .appName(\"baconbits-spark\") \\\n",
    "    .config('spark.executor.memory', \"16g\") \\\n",
    "    .config('spark.executor.cores', \"4\") \\\n",
    "    .config('spark.sql.execution.arrow.enabled',\"true\") \\\n",
    "    .config('spark.sql.execution.arrow.maxRecordsPerBatch', 500000) \\\n",
    "    .config('spark.driver.maxResultSize',0) \\\n",
    "    .config('spark.dynamicAllocation.minExecutors',2) \\\n",
    "    .config('spark.dynamicAllocation.maxExecutors',250) \\\n",
    "    .config('spark.cores.max',1000) \\\n",
    "    .config('spark.sql.files.maxPartitionBytes', 2 * 1024 * 1024 * 1024) \\\n",
    "    .getOrCreate()\n",
    "sc = session.sparkContext\n",
    "sc.setLogLevel(\"WARN\")\n",
    "sc._jsc.hadoopConfiguration().set(\"dfs.block.size\", '1g')\n",
    "sc._jsc.hadoopConfiguration().set(\"parquet.block.size\", '1g')\n",
    "spark = session\n",
    "\n",
    "#from sparkmeasure import TaskMetrics\n",
    "#taskmetrics = TaskMetrics(spark)\n",
    "\n",
    "partitionsize = 200000\n",
    "thread_workers = 16\n"
   ]
  },
  {
   "cell_type": "code",
   "execution_count": null,
   "metadata": {},
   "outputs": [],
   "source": [
    "import pyspark.sql.functions as fn\n",
    "from tqdm import tqdm\n",
    "import json\n",
    "\n",
    "datasets = {}\n",
    "\n",
    "with open('metadata/samplefiles.json') as f:\n",
    "    temp = json.load(f)\n",
    "    for dsgroup,datasetlist in temp.items():\n",
    "        if dsgroup != 'Hbb_2017': continue\n",
    "        datasets = datasetlist\n",
    "\n",
    "datasets_spark = {}\n",
    "skim_root = 'bitsconvert_17042019'\n",
    "for ds, files in datasets.items():\n",
    "    datasets_spark[ds] = ['hdfs:///store/parquet/zprimebits/%s/%s/'%(skim_root,ds)]\n"
   ]
  },
  {
   "cell_type": "code",
   "execution_count": null,
   "metadata": {},
   "outputs": [],
   "source": [
    "#get the hbb analysis worker\n",
    "from coffea.util import load\n",
    "\n",
    "processor_instance = load('boostedHbbProcessor.coffea')"
   ]
  },
  {
   "cell_type": "code",
   "execution_count": null,
   "metadata": {},
   "outputs": [],
   "source": [
    "import time\n",
    "from coffea.processor import run_spark_job\n",
    "from coffea.processor.spark.spark_executor import spark_executor\n",
    "\n",
    "tic = time.time()\n",
    "final_accumulator = run_spark_job(datasets_spark, processor_instance, spark_executor, \n",
    "                                  spark=spark, partitionsize=partitionsize, thread_workers=thread_workers)\n",
    "dt = time.time() - tic\n"
   ]
  },
  {
   "cell_type": "code",
   "execution_count": null,
   "metadata": {},
   "outputs": [],
   "source": [
    "nevt = sum(spark_executor.counts.values())\n",
    "print('processed:',nevt,'events')\n",
    "print('total time: ',dt/60)\n",
    "print('μs/evt', dt/nevt*1e6)\n",
    "print('Mevt/s', nevt/dt/1e6)\n"
   ]
  },
  {
   "cell_type": "code",
   "execution_count": null,
   "metadata": {},
   "outputs": [],
   "source": [
    "from coffea import hist\n",
    "import gzip\n",
    "import pickle\n",
    "import numexpr\n",
    "import numpy as np\n",
    "\n",
    "nbins = sum(sum(arr.size for arr in h._sumw.values()) for h in final_accumulator.values() if isinstance(h, hist.Hist))\n",
    "nfilled = sum(sum(np.sum(arr>0) for arr in h._sumw.values()) for h in final_accumulator.values() if isinstance(h, hist.Hist))\n",
    "print(\"Processed %.1fM events\" % (nevt/1e6, ))\n",
    "print(\"Filled %.1fM bins\" % (nbins/1e6, ))\n",
    "print(\"Nonzero bins: %.1f%%\" % (100*nfilled/nbins, ))\n",
    "\n",
    "# Pickle is not very fast or memory efficient, will be replaced by something better soon\n",
    "with lz4f.open(\"hists.cpkl.lz4\", mode=\"wb\", compression_level=6) as fout:\n",
    "    cpkl.dump(final_accumulator, fout)\n",
    "\n",
    "#dt = time.time() - tstart\n",
    "#print(\"%.2f us*cpu/event overall\" % (1e6*dt*nworkers/final_accumulators['nentries'], ))\n"
   ]
  },
  {
   "cell_type": "code",
   "execution_count": null,
   "metadata": {},
   "outputs": [],
   "source": [
    "spark.stop()\n"
   ]
  },
  {
   "cell_type": "code",
   "execution_count": null,
   "metadata": {},
   "outputs": [],
   "source": []
  }
 ],
 "metadata": {
  "kernelspec": {
   "display_name": "Python 3",
   "language": "python",
   "name": "python3"
  },
  "language_info": {
   "codemirror_mode": {
    "name": "ipython",
    "version": 3
   },
   "file_extension": ".py",
   "mimetype": "text/x-python",
   "name": "python",
   "nbconvert_exporter": "python",
   "pygments_lexer": "ipython3",
   "version": "3.6.5"
  }
 },
 "nbformat": 4,
 "nbformat_minor": 2
}
