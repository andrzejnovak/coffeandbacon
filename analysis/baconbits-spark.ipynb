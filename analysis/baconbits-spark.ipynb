{
 "cells": [
  {
   "cell_type": "code",
   "execution_count": 1,
   "metadata": {},
   "outputs": [],
   "source": [
    "# NB: This is for spark running on parquet files converted from\n",
    "#     baconbits skims. This is a prototype, there is lots of boilerplate.\n",
    "#     We're making it better :-)\n",
    "\n",
    "import pyspark.sql\n",
    "import os\n",
    "import sys\n",
    "\n",
    "# The following line is necessary because we're working in a\n",
    "# virtualenv. Without it, executors will use the wrong interpreter!\n",
    "os.environ['PYSPARK_PYTHON'] = sys.executable\n",
    "\n",
    "#    .config(\"spark.driver.extraClassPath\",\"/home/cms.lgray/sparkMeasure/target/scala-2.12/spark-measure_2.12-0.14-SNAPSHOT.jar\") \\\n",
    "#    .master('local[*]') \\\n",
    "\n",
    "session = pyspark.sql.SparkSession.builder \\\n",
    "    .appName(\"baconbits-spark\") \\\n",
    "    .config('spark.executor.memory', \"16g\") \\\n",
    "    .config('spark.executor.cores', \"4\") \\\n",
    "    .config('spark.sql.execution.arrow.enabled',\"true\") \\\n",
    "    .config('spark.sql.execution.arrow.maxRecordsPerBatch', 500000) \\\n",
    "    .config('spark.driver.maxResultSize',0) \\\n",
    "    .config('spark.dynamicAllocation.minExecutors',2) \\\n",
    "    .config('spark.dynamicAllocation.maxExecutors',250) \\\n",
    "    .config('spark.cores.max',1000) \\\n",
    "    .config('spark.sql.files.maxPartitionBytes', 2 * 1024 * 1024 * 1024) \\\n",
    "    .getOrCreate()\n",
    "sc = session.sparkContext\n",
    "sc.setLogLevel(\"WARN\")\n",
    "sc._jsc.hadoopConfiguration().set(\"dfs.block.size\", '1g')\n",
    "sc._jsc.hadoopConfiguration().set(\"parquet.block.size\", '1g')\n",
    "spark = session\n",
    "\n",
    "#from sparkmeasure import TaskMetrics\n",
    "#taskmetrics = TaskMetrics(spark)\n",
    "\n",
    "partitionsize = 200000\n",
    "thread_workers = 16\n"
   ]
  },
  {
   "cell_type": "code",
   "execution_count": 2,
   "metadata": {},
   "outputs": [],
   "source": [
    "import pyspark.sql.functions as fn\n",
    "from tqdm import tqdm\n",
    "import json\n",
    "\n",
    "datasets = {}\n",
    "\n",
    "with open('metadata/samplefiles.json') as f:\n",
    "    temp = json.load(f)\n",
    "    for dsgroup,datasetlist in temp.items():\n",
    "        if dsgroup != 'Hbb_2017': continue\n",
    "        datasets = datasetlist\n",
    "\n",
    "datasets_spark = {}\n",
    "skim_root = 'bitsconvert_17042019'\n",
    "for ds, files in datasets.items():\n",
    "    datasets_spark[ds] = ['hdfs:///store/parquet/zprimebits/%s/%s/'%(skim_root,ds)]\n"
   ]
  },
  {
   "cell_type": "code",
   "execution_count": 3,
   "metadata": {},
   "outputs": [],
   "source": [
    "#get the hbb analysis worker from the cloudpickle file\n",
    "import cloudpickle as cpkl\n",
    "import lz4.frame as lz4f\n",
    "\n",
    "processor_pkl = 'boostedHbbProcessor.cpkl.lz4'\n",
    "processor_instance = None\n",
    "with lz4f.open(processor_pkl, mode=\"rb\") as fin:\n",
    "    processor_instance = cpkl.load(fin)\n"
   ]
  },
  {
   "cell_type": "code",
   "execution_count": 4,
   "metadata": {},
   "outputs": [
    {
     "name": "stderr",
     "output_type": "stream",
     "text": [
      "\r",
      "loading:   0%|          | 0/52 [00:00<?, ?datasets/s]"
     ]
    },
    {
     "name": "stdout",
     "output_type": "stream",
     "text": [
      "pyspark version: 2.4.1\n"
     ]
    },
    {
     "name": "stderr",
     "output_type": "stream",
     "text": [
      "loading: 100%|██████████| 52/52 [00:29<00:00,  1.79datasets/s]\n",
      "Processing:   0%|          | 0/52 [00:00<?, ?datasets/s]/home/cms.lgray/py36_2/lib/python3.6/site-packages/pyarrow/__init__.py:152: UserWarning: pyarrow.open_stream is deprecated, please use pyarrow.ipc.open_stream\n",
      "  warnings.warn(\"pyarrow.open_stream is deprecated, please use \"\n",
      "Processing: 100%|██████████| 52/52 [07:05<00:00,  8.18s/datasets]\n"
     ]
    }
   ],
   "source": [
    "import time\n",
    "from coffea.processor import run_spark_job\n",
    "from coffea.processor.spark.spark_executor import spark_executor\n",
    "\n",
    "tic = time.time()\n",
    "final_accumulator = run_spark_job(datasets_spark, processor_instance, spark_executor, \n",
    "                                  spark=spark, partitionsize=partitionsize, thread_workers=thread_workers)\n",
    "dt = time.time() - tic\n"
   ]
  },
  {
   "cell_type": "code",
   "execution_count": 5,
   "metadata": {
    "scrolled": true
   },
   "outputs": [
    {
     "name": "stdout",
     "output_type": "stream",
     "text": [
      "processed: 290837857 events\n",
      "total time:  7.7722529927889505\n",
      "μs/evt 1.6034198036582872\n",
      "Mevt/s 0.6236669883448159\n"
     ]
    }
   ],
   "source": [
    "nevt = sum(spark_executor.counts.values())\n",
    "print('processed:',nevt,'events')\n",
    "print('total time: ',dt/60)\n",
    "print('μs/evt', dt/nevt*1e6)\n",
    "print('Mevt/s', nevt/dt/1e6)\n"
   ]
  },
  {
   "cell_type": "code",
   "execution_count": 7,
   "metadata": {},
   "outputs": [
    {
     "name": "stdout",
     "output_type": "stream",
     "text": [
      "Processed 290.8M events\n",
      "Filled 233.1M bins\n",
      "Nonzero bins: 0.9%\n"
     ]
    }
   ],
   "source": [
    "from coffea import hist\n",
    "import gzip\n",
    "import pickle\n",
    "import numexpr\n",
    "import numpy as np\n",
    "\n",
    "nbins = sum(sum(arr.size for arr in h._sumw.values()) for h in final_accumulator.values() if isinstance(h, hist.Hist))\n",
    "nfilled = sum(sum(np.sum(arr>0) for arr in h._sumw.values()) for h in final_accumulator.values() if isinstance(h, hist.Hist))\n",
    "print(\"Processed %.1fM events\" % (nevt/1e6, ))\n",
    "print(\"Filled %.1fM bins\" % (nbins/1e6, ))\n",
    "print(\"Nonzero bins: %.1f%%\" % (100*nfilled/nbins, ))\n",
    "\n",
    "# Pickle is not very fast or memory efficient, will be replaced by something better soon\n",
    "with lz4f.open(\"hists.cpkl.lz4\", mode=\"wb\", compression_level=6) as fout:\n",
    "    cpkl.dump(final_accumulator, fout)\n",
    "\n",
    "#dt = time.time() - tstart\n",
    "#print(\"%.2f us*cpu/event overall\" % (1e6*dt*nworkers/final_accumulators['nentries'], ))\n"
   ]
  },
  {
   "cell_type": "code",
   "execution_count": 6,
   "metadata": {},
   "outputs": [],
   "source": [
    "spark.stop()\n"
   ]
  },
  {
   "cell_type": "code",
   "execution_count": null,
   "metadata": {},
   "outputs": [],
   "source": []
  }
 ],
 "metadata": {
  "kernelspec": {
   "display_name": "py36",
   "language": "python",
   "name": "py36"
  },
  "language_info": {
   "codemirror_mode": {
    "name": "ipython",
    "version": 3
   },
   "file_extension": ".py",
   "mimetype": "text/x-python",
   "name": "python",
   "nbconvert_exporter": "python",
   "pygments_lexer": "ipython3",
   "version": "3.6.7"
  }
 },
 "nbformat": 4,
 "nbformat_minor": 2
}
