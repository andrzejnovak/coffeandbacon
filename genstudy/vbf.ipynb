{
 "cells": [
  {
   "cell_type": "code",
   "execution_count": null,
   "metadata": {},
   "outputs": [],
   "source": [
    "import json\n",
    "import uproot\n",
    "import uproot_methods\n",
    "import awkward\n",
    "import numpy as np\n",
    "from coffea.analysis_objects import JaggedCandidateArray\n",
    "import coffea.hist as hist\n",
    "%matplotlib nbagg\n",
    "import matplotlib.pyplot as plt\n",
    "\n",
    "def nanoObject(tree, prefix):\n",
    "    branches = set(k.decode('ascii') for k in tree.keys() if k.decode('ascii')[:len(prefix)] == prefix)\n",
    "    p4branches = [prefix + k for k in ['pt', 'eta', 'phi', 'mass']]\n",
    "    branches -= set(p4branches)\n",
    "    objp4 = uproot_methods.TLorentzVectorArray.from_ptetaphim(*[tree[b].array() for b in p4branches])\n",
    "    branches = {k[len(prefix):]: tree[k].array() for k in branches}\n",
    "    obj = awkward.JaggedArray.zip(p4=objp4, **branches)\n",
    "    return obj"
   ]
  },
  {
   "cell_type": "code",
   "execution_count": null,
   "metadata": {},
   "outputs": [],
   "source": [
    "bits = {\n",
    "    0: 'isPrompt',\n",
    "    1: 'isDecayedLeptonHadron',\n",
    "    2: 'isTauDecayProduct',\n",
    "    3: 'isPromptTauDecayProduct',\n",
    "    4: 'isDirectTauDecayProduct',\n",
    "    5: 'isDirectPromptTauDecayProduct',\n",
    "    6: 'isDirectHadronDecayProduct',\n",
    "    7: 'isHardProcess',\n",
    "    8: 'fromHardProcess',\n",
    "    9: 'isHardProcessTauDecayProduct',\n",
    "    10: 'isDirectHardProcessTauDecayProduct',\n",
    "    11: 'fromHardProcessBeforeFSR',\n",
    "    12: 'isFirstCopy',\n",
    "    13: 'isLastCopy',\n",
    "    14: 'isLastCopyBeforeFSR'\n",
    "}\n",
    "def statusmask(array, require):\n",
    "    mask = sum((1<<k) for k,v in bits.items() if v in require)\n",
    "    return (array & mask)==mask\n",
    "\n",
    "def getbits(num):\n",
    "    return [v for k, v in bits.items() if num & (1<<k)]"
   ]
  },
  {
   "cell_type": "code",
   "execution_count": null,
   "metadata": {},
   "outputs": [],
   "source": [
    "with open('files.json') as fin:\n",
    "    files = json.load(fin)\n",
    "\n",
    "print(\"\\n\".join(files.keys()))"
   ]
  },
  {
   "cell_type": "code",
   "execution_count": null,
   "metadata": {},
   "outputs": [],
   "source": [
    "fvbf = uproot.open(files['VBFHToBB_M-125_13TeV_powheg_pythia8_weightfix'][1])\n",
    "tvbf = fvbf['Events']\n",
    "#fggf = uproot.open(files['GluGluHToBB_M-125_13TeV_powheg_MINLO_NNLOPS_pythia8'][29])\n",
    "fggf = uproot.open(\"/uscms_data/d3/ncsmith/dazsle/mg5masseffects/nanogen/nanogen.root\")\n",
    "tggf = fggf['Events']"
   ]
  },
  {
   "cell_type": "code",
   "execution_count": null,
   "metadata": {},
   "outputs": [],
   "source": [
    "vbf_genj = nanoObject(tvbf, \"GenJet_\")\n",
    "ggf_genj = nanoObject(tggf, \"GenJet_\")\n",
    "vbf_genj8 = nanoObject(tvbf, \"GenJetAK8_\")\n",
    "ggf_genj8 = nanoObject(tggf, \"GenJetAK8_\")\n",
    "vbf_genp = nanoObject(tvbf, \"GenPart_\")\n",
    "ggf_genp = nanoObject(tggf, \"GenPart_\")"
   ]
  },
  {
   "cell_type": "code",
   "execution_count": null,
   "metadata": {},
   "outputs": [],
   "source": [
    "hidx = (ggf_genp['pdgId']==25) & statusmask(ggf_genp['statusFlags'], {'isHardProcess'})\n",
    "hgen = ggf_genp[hidx][:,0]"
   ]
  },
  {
   "cell_type": "code",
   "execution_count": null,
   "metadata": {},
   "outputs": [],
   "source": [
    "genj = ggf_genj\n",
    "genj8 = ggf_genj8\n",
    "\n",
    "hjcross = genj['p4'].cross(genj8[:,:1]['p4'], nested=True)\n",
    "jcut = (hjcross.i0.delta_r(hjcross.i1) > 0.8).any()\n",
    "ecut = jcut.sum() >= 2\n",
    "jcut = jcut & ecut\n",
    "vbfjets = genj[jcut][:,:2]\n",
    "detajj = np.abs(vbfjets[:,0:1]['p4'].eta - vbfjets[:,1:2]['p4'].eta)\n",
    "mjj = (vbfjets[:,0:1]['p4'] + vbfjets[:,1:2]['p4']).mass"
   ]
  },
  {
   "cell_type": "code",
   "execution_count": null,
   "metadata": {},
   "outputs": [],
   "source": [
    "mjj"
   ]
  },
  {
   "cell_type": "code",
   "execution_count": null,
   "metadata": {},
   "outputs": [],
   "source": [
    "cut = (statusmask(ggf_genp['statusFlags'], {'isHardProcess'}) & (ggf_genj.counts==0))"
   ]
  },
  {
   "cell_type": "code",
   "execution_count": null,
   "metadata": {},
   "outputs": [],
   "source": [
    "genj8 = awkward.MaskedArray(ggf_genj8.counts==0, ggf_genj8)\n",
    "\n",
    "genj8[:,0]"
   ]
  },
  {
   "cell_type": "code",
   "execution_count": null,
   "metadata": {},
   "outputs": [],
   "source": [
    "dr = ggf_genj8[:,:2]['p4'].delta_r(hgen['p4'])\n",
    "print(np.sum(dr[:,0:1].flatten()<0.8))\n",
    "print(np.sum(dr[:,1:2].flatten()<0.8))\n",
    "print(np.sum(dr[:,2:3].flatten()<0.8))\n",
    "dr = dr[dr.counts==2]\n",
    "plt.hist2d(dr[:,0].flatten(), dr[:,1].flatten(), alpha=.2)\n",
    "print(np.sum(dr.regular()<0.8, axis=0))"
   ]
  },
  {
   "cell_type": "code",
   "execution_count": null,
   "metadata": {},
   "outputs": [],
   "source": [
    "hidx = (vbf_genp['pdgId']==25) & statusmask(vbf_genp['statusFlags'], {'isHardProcess'})\n",
    "hgen = vbf_genp[hidx][:,0]"
   ]
  },
  {
   "cell_type": "code",
   "execution_count": null,
   "metadata": {},
   "outputs": [],
   "source": [
    "hjet = vbf_genj8[:,0]\n",
    "jcut = vbf_genj['p4'].delta_r(hjet['p4']) > 0.8\n",
    "jcut = jcut & (jcut.sum()>=2)\n",
    "vbfjets = vbf_genj[jcut][:,:2]\n",
    "detajj = np.abs(vbfjets[:,0:1]['p4'].eta - vbfjets[:,1:2]['p4'].eta)\n",
    "mjj = (vbfjets[:,0:1]['p4'] + vbfjets[:,1:2]['p4']).mass"
   ]
  },
  {
   "cell_type": "code",
   "execution_count": null,
   "metadata": {},
   "outputs": [],
   "source": [
    "plt.hist(detajj.flatten())"
   ]
  },
  {
   "cell_type": "code",
   "execution_count": null,
   "metadata": {},
   "outputs": [],
   "source": [
    "genp = ggf_genp\n",
    "#mom = genp[genp['genPartIdxMother']]\n",
    "idx = genp['genPartIdxMother']==0\n",
    "\n",
    "for ev in genp[idx][:8].tolist():\n",
    "    print(\"\\nEvent\")\n",
    "    for gp in ev:\n",
    "        print(gp)\n",
    "        print(\"status:\", getbits(gp['statusFlags']))"
   ]
  },
  {
   "cell_type": "code",
   "execution_count": null,
   "metadata": {},
   "outputs": [],
   "source": [
    "hidx = (genp['pdgId']==25) & (genp['statusFlags']&(1<<7)).astype(bool)\n",
    "higgs = genp[hidx]"
   ]
  },
  {
   "cell_type": "code",
   "execution_count": null,
   "metadata": {},
   "outputs": [],
   "source": [
    "heta = hist.Hist(\"Events\", hist.Bin(\"eta\", r\"$\\eta_h$\", 50, -5, 5))\n",
    "cut = higgs['p4'].pt > 450.\n",
    "heta.fill(eta=higgs[cut]['p4'].eta.flatten())\n",
    "hist.plot1d(heta)"
   ]
  },
  {
   "cell_type": "code",
   "execution_count": null,
   "metadata": {},
   "outputs": [],
   "source": [
    "genq = genp[(genp['genPartIdxMother']==0) & (~hidx) & cut.flatten()]\n",
    "np.unique(genq.counts)"
   ]
  },
  {
   "cell_type": "code",
   "execution_count": null,
   "metadata": {},
   "outputs": [],
   "source": [
    "mjj = (genq['p4'][:,0:1] + genq['p4'][:,1:2]).mass\n",
    "detajj = np.abs(genq['p4'][:,0:1].eta - genq['p4'][:,1:2].eta)"
   ]
  },
  {
   "cell_type": "code",
   "execution_count": null,
   "metadata": {},
   "outputs": [],
   "source": [
    "vbfcut = ((mjj > 975) & (detajj > 3.25)).sum() == 1\n",
    "etacut = (np.abs(genq['p4'][:,:2].eta)>2.5).sum() > 0\n",
    "(etacut & vbfcut).sum() / vbfcut.sum()"
   ]
  },
  {
   "cell_type": "code",
   "execution_count": null,
   "metadata": {},
   "outputs": [],
   "source": [
    "jpt = genq['p4'].pt.pad(3).fillna(0)\n",
    "jeta = genq['p4'].eta.pad(3).fillna(-100)\n",
    "hpt = hist.Hist(\"Events\",\n",
    "                hist.Cat(\"ijet\", \"Jet index\"),\n",
    "                hist.Bin(\"pt\", r\"$p_{T,j}$\", 40, 0, 1000),\n",
    "                hist.Bin(\"eta\", r\"$\\eta_j$\", 50, -5, 5)\n",
    "               )\n",
    "hpt.fill(ijet=\"0\", pt=jpt[:,0].flatten(), eta=jeta[:,0].flatten())\n",
    "hpt.fill(ijet=\"1\", pt=jpt[:,1].flatten(), eta=jeta[:,1].flatten())\n",
    "hpt.fill(ijet=\"2\", pt=jpt[:,2].flatten(), eta=jeta[:,2].flatten())\n",
    "fig, ax, _ = hist.plot2d(hpt.project('ijet', '0'), xaxis='eta')\n",
    "#ax.set_ylim(1, None)\n",
    "#ax.set_yscale('log')"
   ]
  },
  {
   "cell_type": "code",
   "execution_count": null,
   "metadata": {},
   "outputs": [],
   "source": [
    "getbits(385)"
   ]
  },
  {
   "cell_type": "code",
   "execution_count": null,
   "metadata": {},
   "outputs": [],
   "source": []
  }
 ],
 "metadata": {
  "kernelspec": {
   "display_name": "Python 3",
   "language": "python",
   "name": "python3"
  },
  "language_info": {
   "codemirror_mode": {
    "name": "ipython",
    "version": 3
   },
   "file_extension": ".py",
   "mimetype": "text/x-python",
   "name": "python",
   "nbconvert_exporter": "python",
   "pygments_lexer": "ipython3",
   "version": "3.6.5"
  }
 },
 "nbformat": 4,
 "nbformat_minor": 2
}
