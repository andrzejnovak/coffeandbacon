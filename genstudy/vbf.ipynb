{
 "cells": [
  {
   "cell_type": "code",
   "execution_count": null,
   "metadata": {},
   "outputs": [],
   "source": [
    "import json\n",
    "import uproot\n",
    "import uproot_methods\n",
    "import awkward\n",
    "import numpy as np\n",
    "from fnal_column_analysis_tools.analysis_objects import JaggedCandidateArray\n",
    "import fnal_column_analysis_tools.hist as hist\n",
    "from fnal_column_analysis_tools.hist import plot\n",
    "%matplotlib nbagg\n",
    "import matplotlib.pyplot as plt\n",
    "\n",
    "def nanoObject(tree, prefix):\n",
    "    branches = set(k.decode('ascii') for k in tree.keys() if k.decode('ascii')[:len(prefix)] == prefix)\n",
    "    p4branches = [prefix + k for k in ['pt', 'eta', 'phi', 'mass']]\n",
    "    branches -= set(p4branches)\n",
    "    objp4 = uproot_methods.TLorentzVectorArray.from_ptetaphim(*[tree[b].array() for b in p4branches])\n",
    "    branches = {k[len(prefix):]: tree[k].array() for k in branches}\n",
    "    obj = awkward.JaggedArray.zip(p4=objp4, **branches)\n",
    "    return obj"
   ]
  },
  {
   "cell_type": "code",
   "execution_count": null,
   "metadata": {},
   "outputs": [],
   "source": [
    "with open('files.json') as fin:\n",
    "    files = json.load(fin)\n",
    "\n",
    "print(\"\\n\".join(files.keys()))\n",
    "redir = 'root://cmsxrootd.fnal.gov/'\n",
    "files = {k: [redir+f for f in v] for k,v in files.items()}"
   ]
  },
  {
   "cell_type": "code",
   "execution_count": null,
   "metadata": {},
   "outputs": [],
   "source": [
    "t[b'GenPart_statusFlags']._fTitle"
   ]
  },
  {
   "cell_type": "code",
   "execution_count": null,
   "metadata": {},
   "outputs": [],
   "source": [
    "genp = nanoObject(t, \"GenPart_\")"
   ]
  },
  {
   "cell_type": "code",
   "execution_count": null,
   "metadata": {},
   "outputs": [],
   "source": [
    "plt.hist(genp[genp['pdgId']==22]['p4'].counts)"
   ]
  },
  {
   "cell_type": "code",
   "execution_count": null,
   "metadata": {},
   "outputs": [],
   "source": [
    "hidx = (genp['pdgId']==25) & (genp['statusFlags']&(1<<7)).astype(bool)\n",
    "higgs = genp[hidx]"
   ]
  },
  {
   "cell_type": "code",
   "execution_count": null,
   "metadata": {},
   "outputs": [],
   "source": [
    "heta = hist.Hist(\"Events\", hist.Bin(\"eta\", r\"$\\eta_h$\", 50, -5, 5))\n",
    "cut = higgs['p4'].pt > 450.\n",
    "heta.fill(eta=higgs[cut]['p4'].eta.flatten())\n",
    "plot.plot1d(heta)"
   ]
  },
  {
   "cell_type": "code",
   "execution_count": null,
   "metadata": {},
   "outputs": [],
   "source": [
    "genq = genp[(genp['genPartIdxMother']==0) & (~hidx) & cut.flatten()]\n",
    "np.unique(genq.counts)"
   ]
  },
  {
   "cell_type": "code",
   "execution_count": null,
   "metadata": {},
   "outputs": [],
   "source": [
    "mjj = (genq['p4'][:,0:1] + genq['p4'][:,1:2]).mass\n",
    "detajj = np.abs(genq['p4'][:,0:1].eta - genq['p4'][:,1:2].eta)"
   ]
  },
  {
   "cell_type": "code",
   "execution_count": null,
   "metadata": {},
   "outputs": [],
   "source": [
    "vbfcut = ((mjj > 975) & (detajj > 3.25)).sum() == 1\n",
    "etacut = (np.abs(genq['p4'][:,:2].eta)>2.5).sum() > 0\n",
    "(etacut & vbfcut).sum() / vbfcut.sum()"
   ]
  },
  {
   "cell_type": "code",
   "execution_count": null,
   "metadata": {},
   "outputs": [],
   "source": [
    "jpt = genq['p4'].pt.pad(3).fillna(0)\n",
    "jeta = genq['p4'].eta.pad(3).fillna(-100)\n",
    "hpt = hist.Hist(\"Events\",\n",
    "                hist.Cat(\"ijet\", \"Jet index\"),\n",
    "                hist.Bin(\"pt\", r\"$p_{T,j}$\", 40, 0, 1000),\n",
    "                hist.Bin(\"eta\", r\"$\\eta_j$\", 50, -5, 5)\n",
    "               )\n",
    "hpt.fill(ijet=\"0\", pt=jpt[:,0].flatten(), eta=jeta[:,0].flatten())\n",
    "hpt.fill(ijet=\"1\", pt=jpt[:,1].flatten(), eta=jeta[:,1].flatten())\n",
    "hpt.fill(ijet=\"2\", pt=jpt[:,2].flatten(), eta=jeta[:,2].flatten())\n",
    "fig, ax, _ = plot.plot2d(hpt.project('ijet', '0'), xaxis='eta')\n",
    "#ax.set_ylim(1, None)\n",
    "#ax.set_yscale('log')"
   ]
  },
  {
   "cell_type": "code",
   "execution_count": null,
   "metadata": {},
   "outputs": [],
   "source": [
    "bits = {\n",
    "    0: 'isPrompt',\n",
    "    1: 'isDecayedLeptonHadron',\n",
    "    2: 'isTauDecayProduct',\n",
    "    3: 'isPromptTauDecayProduct',\n",
    "    4: 'isDirectTauDecayProduct',\n",
    "    5: 'isDirectPromptTauDecayProduct',\n",
    "    6: 'isDirectHadronDecayProduct',\n",
    "    7: 'isHardProcess',\n",
    "    8: 'fromHardProcess',\n",
    "    9: 'isHardProcessTauDecayProduct',\n",
    "    10: 'isDirectHardProcessTauDecayProduct',\n",
    "    11: 'fromHardProcessBeforeFSR',\n",
    "    12: 'isFirstCopy',\n",
    "    13: 'isLastCopy',\n",
    "    14: 'isLastCopyBeforeFSR'\n",
    "}\n",
    "def getbits(num):\n",
    "    return [v for k, v in bits.items() if num & (1<<k)]\n",
    "\n",
    "getbits(22913)"
   ]
  },
  {
   "cell_type": "code",
   "execution_count": null,
   "metadata": {},
   "outputs": [],
   "source": [
    "getbits(385)"
   ]
  },
  {
   "cell_type": "code",
   "execution_count": null,
   "metadata": {},
   "outputs": [],
   "source": []
  }
 ],
 "metadata": {
  "kernelspec": {
   "display_name": "Python 3",
   "language": "python",
   "name": "python3"
  },
  "language_info": {
   "codemirror_mode": {
    "name": "ipython",
    "version": 3
   },
   "file_extension": ".py",
   "mimetype": "text/x-python",
   "name": "python",
   "nbconvert_exporter": "python",
   "pygments_lexer": "ipython3",
   "version": "3.6.5"
  }
 },
 "nbformat": 4,
 "nbformat_minor": 2
}
