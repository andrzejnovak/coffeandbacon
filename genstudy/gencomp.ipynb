{
 "cells": [
  {
   "cell_type": "code",
   "execution_count": 1,
   "metadata": {},
   "outputs": [],
   "source": [
    "import json\n",
    "import uproot\n",
    "import uproot_methods\n",
    "import awkward\n",
    "import numpy as np\n",
    "%matplotlib nbagg\n",
    "\n",
    "import fnal_column_analysis_tools.processor as processor\n",
    "import fnal_column_analysis_tools.hist as hist\n",
    "from fnal_column_analysis_tools.hist import plot\n",
    "import matplotlib.pyplot as plt"
   ]
  },
  {
   "cell_type": "code",
   "execution_count": 2,
   "metadata": {},
   "outputs": [
    {
     "name": "stdout",
     "output_type": "stream",
     "text": [
      "GluGluHToBB_M125_13TeV_powheg_pythia8\n",
      "GluGluHToBB_M125_13TeV_amcatnloFXFX_pythia8\n",
      "GluGluHToBB_M125_LHEHpT_250-Inf_13TeV_amcatnloFXFX_pythia8\n",
      "GluGluHToBB_M-125_13TeV_powheg_MINLO_NNLOPS_pythia8\n",
      "VBFHToBB_M-125_13TeV_powheg_pythia8_weightfix\n"
     ]
    }
   ],
   "source": [
    "with open('files.json') as fin:\n",
    "    files = json.load(fin)\n",
    "\n",
    "print(\"\\n\".join(files.keys()))\n",
    "redir = 'root://cmsxrootd.fnal.gov/'\n",
    "samples = {k: [redir+f for f in v[:1]] for k,v in files.items()}"
   ]
  },
  {
   "cell_type": "code",
   "execution_count": 3,
   "metadata": {},
   "outputs": [],
   "source": [
    "class HiggsGenComparison(processor.ProcessorABC):\n",
    "    def __init__(self):\n",
    "        dataset_axis = hist.Cat(\"dataset\", \"Primary dataset\")\n",
    "        pt_axis = hist.Bin(\"pt\", r\"$p_{T,h}$ [GeV]\", 120, 0., 1200.)\n",
    "        \n",
    "        self._accumulator = processor.dict_accumulator({\n",
    "            'hpt': hist.Hist(\"Counts\", dataset_axis, pt_axis),\n",
    "        })\n",
    "    \n",
    "    @property\n",
    "    def accumulator(self):\n",
    "        return self._accumulator\n",
    "    \n",
    "    def nanoObject(self, df, prefix):\n",
    "        branches = set(k.decode('ascii') for k in df.available if k.decode('ascii').startswith(prefix))\n",
    "        p4branches = [prefix + k for k in ['pt', 'eta', 'phi', 'mass']]\n",
    "        branches -= set(p4branches)\n",
    "        objp4 = uproot_methods.TLorentzVectorArray.from_ptetaphim(*[df[b] for b in p4branches])\n",
    "        branches = {k[len(prefix):]: df[k] for k in branches}\n",
    "        obj = awkward.JaggedArray.zip(p4=objp4, **branches)\n",
    "        return obj\n",
    "\n",
    "    def process(self, df):\n",
    "        output = self.accumulator.identity()\n",
    "        \n",
    "        dataset = df['dataset']\n",
    "        genp = self.nanoObject(df, 'GenPart_')\n",
    "        hidx = (genp['pdgId']==25) & (genp['statusFlags']&(1<<7)).astype(bool)\n",
    "        higgs = genp[hidx]\n",
    "        \n",
    "        output['hpt'].fill(dataset=dataset, pt=higgs['p4'].pt.flatten())\n",
    "        \n",
    "        return output\n",
    "\n",
    "    def postprocess(self, accumulator):\n",
    "        return accumulator"
   ]
  },
  {
   "cell_type": "code",
   "execution_count": null,
   "metadata": {
    "scrolled": true
   },
   "outputs": [
    {
     "name": "stderr",
     "output_type": "stream",
     "text": [
      "Building chunk lists: 100%|██████████| 5/5 [00:04<00:00,  1.20it/s]\n",
      "  0%|          | 0/11 [00:00<?, ?items/s]"
     ]
    },
    {
     "name": "stdout",
     "output_type": "stream",
     "text": [
      "working\n",
      "working\n",
      "working\n",
      "working\n",
      "working\n",
      "working\n",
      "working\n",
      "working\n"
     ]
    }
   ],
   "source": [
    "output = processor.run_uproot_job(samples,\n",
    "                                  treename='Events',\n",
    "                                  processor_instance=HiggsGenComparison(),\n",
    "                                  executor=processor.futures_executor,\n",
    "                                  executor_args={'workers': 8},\n",
    "                                  chunksize=500000,\n",
    "                                 )\n"
   ]
  },
  {
   "cell_type": "code",
   "execution_count": null,
   "metadata": {},
   "outputs": [],
   "source": [
    "plot.plot1d(output['hpt'], overlay='dataset')"
   ]
  },
  {
   "cell_type": "code",
   "execution_count": null,
   "metadata": {},
   "outputs": [],
   "source": [
    "output['_bytesread'].value/1e9"
   ]
  },
  {
   "cell_type": "code",
   "execution_count": null,
   "metadata": {},
   "outputs": [],
   "source": []
  }
 ],
 "metadata": {
  "kernelspec": {
   "display_name": "Python 3",
   "language": "python",
   "name": "python3"
  },
  "language_info": {
   "codemirror_mode": {
    "name": "ipython",
    "version": 3
   },
   "file_extension": ".py",
   "mimetype": "text/x-python",
   "name": "python",
   "nbconvert_exporter": "python",
   "pygments_lexer": "ipython3",
   "version": "3.6.5"
  }
 },
 "nbformat": 4,
 "nbformat_minor": 2
}
