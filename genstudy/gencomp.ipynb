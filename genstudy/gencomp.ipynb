{
 "cells": [
  {
   "cell_type": "code",
   "execution_count": null,
   "metadata": {},
   "outputs": [],
   "source": [
    "import json\n",
    "import uproot\n",
    "import uproot_methods\n",
    "import awkward\n",
    "import numpy as np\n",
    "from functools import partial\n",
    "%matplotlib nbagg\n",
    "\n",
    "import cloudpickle, lz4.frame as lz4f\n",
    "\n",
    "import fnal_column_analysis_tools.processor as processor\n",
    "import fnal_column_analysis_tools.hist as hist\n",
    "from fnal_column_analysis_tools.hist import plot\n",
    "import matplotlib.pyplot as plt"
   ]
  },
  {
   "cell_type": "code",
   "execution_count": null,
   "metadata": {},
   "outputs": [],
   "source": [
    "with open('files.json') as fin:\n",
    "    samples = json.load(fin)\n",
    "\n",
    "samples['GluGluHToBB_M125_LHEHpT_250-Inf_13TeV_amcatnloFXFX_pythia8'] = samples['GluGluHToBB_M125_LHEHpT_250-Inf_13TeV_amcatnloFXFX_pythia8'][:2]\n",
    "print(\"\\n\".join(samples.keys()))"
   ]
  },
  {
   "cell_type": "code",
   "execution_count": null,
   "metadata": {},
   "outputs": [],
   "source": [
    "class HiggsGenComparison(processor.ProcessorABC):\n",
    "    def __init__(self):\n",
    "        dataset_axis = hist.Cat(\"dataset\", \"Primary dataset\")\n",
    "        pt_axis = hist.Bin(\"pt\", r\"$p_{T,h}$ [GeV]\", 120, 0., 1200.)\n",
    "        widx_axis = hist.Bin(\"widx\", \"Weight index\", 9, 0, 9)\n",
    "        \n",
    "        self._accumulator = processor.dict_accumulator({\n",
    "            'hpt': hist.Hist(\"Counts\", dataset_axis, pt_axis, widx_axis),\n",
    "        })\n",
    "    \n",
    "    @property\n",
    "    def accumulator(self):\n",
    "        return self._accumulator\n",
    "    \n",
    "    def nanoObject(self, df, prefix):\n",
    "        branches = set(k.decode('ascii') for k in df.available if k.decode('ascii').startswith(prefix))\n",
    "        p4branches = [prefix + k for k in ['pt', 'eta', 'phi', 'mass']]\n",
    "        branches -= set(p4branches)\n",
    "        objp4 = uproot_methods.TLorentzVectorArray.from_ptetaphim(*[df[b] for b in p4branches])\n",
    "        branches = {k[len(prefix):]: df[k] for k in branches}\n",
    "        obj = awkward.JaggedArray.zip(p4=objp4, **branches)\n",
    "        return obj\n",
    "\n",
    "    def process(self, df):\n",
    "        output = self.accumulator.identity()\n",
    "        dataset = df['dataset']\n",
    "        \n",
    "        genp = self.nanoObject(df, 'GenPart_')\n",
    "        hidx = (genp['pdgId']==25) & (genp['statusFlags']&(1<<7)).astype(bool)\n",
    "        higgs = genp[hidx]\n",
    "        \n",
    "        if dataset == 'GluGluHToBB_M-125_13TeV_powheg_MINLO_NNLOPS_pythia8':\n",
    "            output['hpt'].fill(dataset=dataset,\n",
    "                               pt=higgs['p4'].pt.flatten(),\n",
    "                               widx=4,\n",
    "                               weight=df['genWeight'])\n",
    "        else:\n",
    "            scalew = df['LHEScaleWeight'].regular()\n",
    "            for iw in range(9):\n",
    "                output['hpt'].fill(dataset=dataset,\n",
    "                                   pt=higgs['p4'].pt.flatten(),\n",
    "                                   widx=iw,\n",
    "                                   weight=df['genWeight']*scalew[:,iw])\n",
    "        \n",
    "        return output\n",
    "\n",
    "    def postprocess(self, accumulator):\n",
    "        return accumulator\n",
    "    \n",
    "\n",
    "class GetSumW(processor.ProcessorABC):\n",
    "    def __init__(self):\n",
    "\n",
    "        self._accumulator = processor.dict_accumulator({\n",
    "            'sumw': processor.defaultdict_accumulator(float),\n",
    "            'scaleSumw': processor.defaultdict_accumulator(partial(np.zeros, 9)),\n",
    "        })\n",
    "    \n",
    "    @property\n",
    "    def accumulator(self):\n",
    "        return self._accumulator\n",
    "\n",
    "    def process(self, df):\n",
    "        output = self.accumulator.identity()\n",
    "        dataset = df['dataset']\n",
    "        \n",
    "        output['sumw'][dataset] += np.sum(df['genEventSumw'])\n",
    "        if dataset == 'GluGluHToBB_M-125_13TeV_powheg_MINLO_NNLOPS_pythia8':\n",
    "            scalew = np.ones(shape=(1,9))*df['genEventSumw']\n",
    "        else:\n",
    "            scalew = df['LHEScaleSumw'].regular()\n",
    "        output['scaleSumw'][dataset] += np.sum(scalew*df['genEventSumw']/scalew[:,4], axis=0)\n",
    "        return output\n",
    "\n",
    "    def postprocess(self, accumulator):\n",
    "        return accumulator"
   ]
  },
  {
   "cell_type": "code",
   "execution_count": null,
   "metadata": {
    "scrolled": true
   },
   "outputs": [],
   "source": [
    "output = processor.run_uproot_job(samples,\n",
    "                                  treename='Events',\n",
    "                                  processor_instance=HiggsGenComparison(),\n",
    "                                  executor=processor.futures_executor,\n",
    "                                  executor_args={'workers': 8},\n",
    "                                  chunksize=500000,\n",
    "                                 )\n",
    "\n",
    "sumw = processor.run_uproot_job(samples,\n",
    "                                  treename='Runs',\n",
    "                                  processor_instance=GetSumW(),\n",
    "                                  executor=processor.futures_executor,\n",
    "                                  executor_args={'workers': 8},\n",
    "                                  chunksize=500000,\n",
    "                                 )\n",
    "\n",
    "output += sumw"
   ]
  },
  {
   "cell_type": "code",
   "execution_count": null,
   "metadata": {},
   "outputs": [],
   "source": [
    "with lz4f.open(\"genHpt.cpkl.gz\", \"w\") as fout:\n",
    "    cloudpickle.dump(output, fout)"
   ]
  },
  {
   "cell_type": "code",
   "execution_count": null,
   "metadata": {},
   "outputs": [],
   "source": [
    "with lz4f.open(\"genHpt.cpkl.gz\") as fin:\n",
    "    output = cloudpickle.load(fin)"
   ]
  },
  {
   "cell_type": "code",
   "execution_count": null,
   "metadata": {},
   "outputs": [],
   "source": [
    "lumi = 1000.\n",
    "xs = {\n",
    "    # nominal 48.85, BR 0.5824\n",
    "    'GluGluHToBB_M125_13TeV_powheg_pythia8': 21.46, # HIG-RunIIFall18wmLHEGS-00565\n",
    "    'GluGluHToBB_M125_13TeV_amcatnloFXFX_pythia8': 33.30,\n",
    "    'GluGluHToBB_M125_LHEHpT_250-Inf_13TeV_amcatnloFXFX_pythia8': 0.3447, # HIG-RunIIFall18wmLHEGS-00567\n",
    "    'GluGluHToBB_M-125_13TeV_powheg_MINLO_NNLOPS_pythia8': 27.80,\n",
    "    'VBFHToBB_M-125_13TeV_powheg_pythia8_weightfix': 3.782, # HIG-RunIIFall18wmLHEGS-00568\n",
    "}\n",
    "scale = {k: lumi*xs[k]/v for k,v in output['sumw'].items()}\n",
    "hpt = output['hpt'].copy()\n",
    "hpt.scale(scale, axis='dataset')"
   ]
  },
  {
   "cell_type": "code",
   "execution_count": null,
   "metadata": {},
   "outputs": [],
   "source": [
    "fig, ax, _ = plot.plot1d(hpt.project('widx', 4), overlay='dataset')\n",
    "ax.set_xlim(250, None)\n",
    "ax.set_ylim(.01, None)\n",
    "ax.set_yscale('log')"
   ]
  },
  {
   "cell_type": "code",
   "execution_count": null,
   "metadata": {},
   "outputs": [],
   "source": [
    "edges = hpt.axis('pt').edges()\n",
    "values = {k[0]: v for k,v in hpt.values(sumw2=True, overflow='over').items()}\n",
    "for k in values:\n",
    "    sumw = np.cumsum(values[k][0][::-1], axis=0)[::-1]\n",
    "    sumw2 = np.cumsum(values[k][1][::-1], axis=0)[::-1]\n",
    "    nom = sumw[:,4]\n",
    "    statw = np.sqrt(sumw2)[:,4]\n",
    "    valid = [0, 1, 3, 4, 5, 7, 8]\n",
    "    scaleup = np.max(sumw[:,valid], axis=1)\n",
    "    scaledn = np.min(sumw[:,valid], axis=1)\n",
    "    values[k] = (nom, statw, scaleup, scaledn)"
   ]
  },
  {
   "cell_type": "code",
   "execution_count": null,
   "metadata": {},
   "outputs": [],
   "source": [
    "# https://cds.cern.ch/record/2669113/files/LHCHXSWG-2019-002.pdf\n",
    "# Table 8\n",
    "edges_xswg = np.array([   400,   430,   450,  500,  550,  600,  650,  700,  750,  800])\n",
    "values_xswg = np.array([32.03, 22.05, 17.37, 9.66, 5.54, 3.24, 1.94, 1.15, 0.69, 0.41])\n",
    "\n",
    "from scipy.interpolate import interp1d\n",
    "interp_xswg = interp1d(edges_xswg, values_xswg, kind='cubic')"
   ]
  },
  {
   "cell_type": "code",
   "execution_count": null,
   "metadata": {},
   "outputs": [],
   "source": [
    "plt.rcParams.update({\n",
    "    'font.size': 14,\n",
    "    'axes.titlesize': 14,\n",
    "    'axes.labelsize': 14,\n",
    "    'xtick.labelsize': 12,\n",
    "    'xtick.direction': 'in',\n",
    "    'xtick.top': True,\n",
    "    'ytick.labelsize': 12,\n",
    "    'ytick.direction': 'in',\n",
    "    'ytick.right': True,\n",
    "    'legend.fontsize': 12,\n",
    "})"
   ]
  },
  {
   "cell_type": "code",
   "execution_count": null,
   "metadata": {
    "scrolled": false
   },
   "outputs": [],
   "source": [
    "fig, (ax, rax) = plt.subplots(2, 1, figsize=(6,6), gridspec_kw={\"height_ratios\": (3, 1)}, sharex=True)\n",
    "fig.subplots_adjust(hspace=.07)\n",
    "\n",
    "def draw(key, label, scale=True):\n",
    "    nom, statw, scaleup, scaledn = values[key]\n",
    "    line, = ax.step(x=edges, y=nom, where='post', label=label)\n",
    "    fill = ax.fill_between(x=edges, y1=nom - statw, y2=nom + statw,\n",
    "                           facecolor='none', edgecolor=line.get_color(), hatch='///', linewidth=0, step='post', label='_')\n",
    "    if scale:\n",
    "        fills = ax.fill_between(x=edges, y1=scaledn, y2=scaleup,\n",
    "                           color=line.get_color(), alpha=0.2, step='post', label='_')\n",
    "    \n",
    "    cut = (edges >= edges_xswg[0]) & (edges < edges_xswg[-1])\n",
    "    rline, = rax.step(edges[cut], nom[cut]/interp_xswg(edges[cut]), color=line.get_color(), where='post')\n",
    "    return line\n",
    "\n",
    "l0, = ax.plot(edges_xswg, values_xswg, linestyle='-', color='k', linewidth=2, label='LHCHXSWG-2019-002')\n",
    "\n",
    "\n",
    "# http://home.fnal.gov/~ncsmith/gg_H_quark-mass-effects_NNPDF31_13TeV_M125_slc6_amd64_gcc630_CMSSW_9_3_0.powheg.input\n",
    "# https://arxiv.org/pdf/1111.2854.pdf\n",
    "l1 = draw('GluGluHToBB_M125_13TeV_powheg_pythia8', 'POWHEG gg_H_quark-mass-effects')\n",
    "\n",
    "\n",
    "l2 = draw('GluGluHToBB_M125_LHEHpT_250-Inf_13TeV_amcatnloFXFX_pythia8', r'MG5 $m_{t}=\\infty$')\n",
    "#lx = draw('GluGluHToBB_M125_13TeV_amcatnloFXFX_pythia8', r'MG5 $m_{t}=\\infty$')\n",
    "\n",
    "\n",
    "# https://github.com/cms-sw/genproductions/blob/b8c44435bd90b2e11cdd21ba596113b1b278a38c/bin/Powheg/production/2017/13TeV/Higgs/HJ_MiNLO_NNLOPS_NNPDF31_13TeV/HJ_MiNLO_NNLOPS_NNPDF31_13TeV.input\n",
    "# https://arxiv.org/pdf/1212.4504.pdf\n",
    "l3 = draw('GluGluHToBB_M-125_13TeV_powheg_MINLO_NNLOPS_pythia8', 'POWHEG MiNLO', scale=False)\n",
    "\n",
    "ax.set_yscale('log')\n",
    "ax.set_ylim(5e-2, 1e3)\n",
    "ax.set_ylabel(r'$\\sigma(gg\\to h, p_{T,h}\\geq p_{T,h}^{cut})$ [fb]')\n",
    "\n",
    "from matplotlib.patches import Patch\n",
    "statpatch = Patch(facecolor='none', edgecolor='k', hatch='///', linewidth=0, label='Stat. Unc.')\n",
    "scalepatch = Patch(facecolor='black', alpha=0.2, label=r'$\\mu_R,\\mu_F$ Unc.')\n",
    "litems = [l0, l1, l2, l3, statpatch, scalepatch]\n",
    "ax.legend(litems, [x.get_label() for x in litems])\n",
    "\n",
    "\n",
    "rax.set_xlim(250, 1200)\n",
    "rax.set_ylim(0, 3)\n",
    "rax.axhline(1, alpha=0.5, color='k', linestyle='--')\n",
    "rax.set_ylabel('x / HXSWG')\n",
    "rax.set_xlabel(r'$p_{T,h}^{cut}$ [GeV]')"
   ]
  },
  {
   "cell_type": "code",
   "execution_count": null,
   "metadata": {},
   "outputs": [],
   "source": [
    "fig.savefig('hxswg_cmsgenerators_comparison.pdf')"
   ]
  },
  {
   "cell_type": "code",
   "execution_count": null,
   "metadata": {},
   "outputs": [],
   "source": []
  }
 ],
 "metadata": {
  "kernelspec": {
   "display_name": "Python 3",
   "language": "python",
   "name": "python3"
  },
  "language_info": {
   "codemirror_mode": {
    "name": "ipython",
    "version": 3
   },
   "file_extension": ".py",
   "mimetype": "text/x-python",
   "name": "python",
   "nbconvert_exporter": "python",
   "pygments_lexer": "ipython3",
   "version": "3.6.5"
  }
 },
 "nbformat": 4,
 "nbformat_minor": 2
}
